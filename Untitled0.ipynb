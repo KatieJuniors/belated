{
  "nbformat": 4,
  "nbformat_minor": 0,
  "metadata": {
    "colab": {
      "provenance": [],
      "authorship_tag": "ABX9TyO6Uz4QGISNO7C85P8BSX1B",
      "include_colab_link": true
    },
    "kernelspec": {
      "name": "python3",
      "display_name": "Python 3"
    },
    "language_info": {
      "name": "python"
    }
  },
  "cells": [
    {
      "cell_type": "markdown",
      "metadata": {
        "id": "view-in-github",
        "colab_type": "text"
      },
      "source": [
        "<a href=\"https://colab.research.google.com/github/KatieJuniors/belated/blob/main/Untitled0.ipynb\" target=\"_parent\"><img src=\"https://colab.research.google.com/assets/colab-badge.svg\" alt=\"Open In Colab\"/></a>"
      ]
    },
    {
      "cell_type": "code",
      "execution_count": null,
      "metadata": {
        "id": "VnMJG1xUed6d"
      },
      "outputs": [],
      "source": [
        "import tkinter as tk\n",
        "from tkinter import messagebox\n",
        "import os\n",
        "\n",
        "def open_folder(folder_name):\n",
        "    folder_contents = {\n",
        "        \"10 Things I Love About You\": show_love_list,\n",
        "        \"our memories\": lambda: show_placeholder(\"our memories\"),\n",
        "        \"my favorite calls with you\": lambda: show_placeholder(\"my favorite calls with you\")\n",
        "    }\n",
        "\n",
        "    if folder_name in folder_contents:\n",
        "        folder_contents[folder_name]()\n",
        "    else:\n",
        "        messagebox.showerror(\"Error\", \"Folder not found!\")\n",
        "\n",
        "def show_folders():\n",
        "    for widget in root.winfo_children():\n",
        "        widget.destroy()\n",
        "\n",
        "    tk.Label(root, text=\"choose a folder mi amore:\", font=(\"Consolas\", 19, \"bold\"), bg=\"#FFD1DC\").pack(pady=10)\n",
        "\n",
        "    folders = [\"10 Things I Love About You\", \"our memories\", \"my favorite calls with you\"]\n",
        "    for folder in folders:\n",
        "        tk.Button(root, text=folder, font=(\"Consolas\", 15), bg=\"#FF69B4\", fg=\"white\", width=28, height=2,\n",
        "                  command=lambda f=folder: open_folder(f)).pack(pady=5)\n",
        "\n",
        "def show_love_list():\n",
        "    for widget in root.winfo_children():\n",
        "        widget.destroy()\n",
        "\n",
        "    tk.Button(root, text=\"Back\", font=(\"Consolas\", 12), bg=\"#FF69B4\", fg=\"white\", command=show_folders).pack(pady=5)\n",
        "\n",
        "    love_list = [\n",
        "        \"❥ I love the way you talk to me\",\n",
        "        \"❥ I love the way you say my name\",\n",
        "        \"❥ I love your melodic laugh\",\n",
        "        \"❥ I love the way you sing\",\n",
        "        \"❥ I love the way you tease me\",\n",
        "        \"❥ I love it when you make me laugh\",\n",
        "        \"❥ I love sitting behind you on rides\",\n",
        "        \"❥ I love the way you touch me\",\n",
        "        \"❥ I love how perfectly your body fits with mine\",\n",
        "        \"❥ I love your eyes, your hair, your smile, your voice, your walk, your fashion sense, the way you play your guitar, \\n   the look on your face when you sleep, your hands, your boobies, your tummy, your cheeks, your nose, your eyes \\n   (ik i already said that but that's just how much i love your eyes-)\"\n",
        "    ]\n",
        "\n",
        "    frame = tk.Frame(root, bg=\"#FFD1DC\")\n",
        "    frame.pack(pady=10)\n",
        "\n",
        "    def reveal_text(index=0):\n",
        "        if index < len(love_list):\n",
        "            tk.Label(frame, text=love_list[index], font=(\"Consolas\", 13), bg=\"#FFD1DC\", wraplength=400, justify=\"left\").pack(anchor=\"w\", pady=2)\n",
        "            root.after(900, lambda: reveal_text(index + 1))\n",
        "\n",
        "    reveal_text()\n",
        "\n",
        "def show_placeholder(folder_name):\n",
        "    for widget in root.winfo_children():\n",
        "        widget.destroy()\n",
        "\n",
        "    tk.Button(root, text=\"Back\", font=(\"Consolas\", 13), bg=\"#FF69B4\", fg=\"white\", command=show_folders).pack(pady=5)\n",
        "\n",
        "    tk.Label(root, text=f\"coming soon when I’m not drowning in exams\\n(patience)\", font=(\"Consolas\", 15, \"bold\"), bg=\"#FFD1DC\", wraplength=400, justify=\"center\").pack(pady=20)\n",
        "\n",
        "def next_message(index):\n",
        "    if index < len(messages):\n",
        "        label.config(text=messages[index])\n",
        "        root.after(2000, lambda: next_message(index + 1))\n",
        "    else:\n",
        "        button.pack(pady=20)\n",
        "\n",
        "root = tk.Tk()\n",
        "root.title(\"for loml\")\n",
        "root.geometry(\"500x550\")\n",
        "root.configure(bg=\"#FFD1DC\")\n",
        "\n",
        "messages = [\"hi, love\", \"here's your belated valentine's gift!\", \"hope you like it-\\n(fingers crossed)\", \"hehehehehhehehe, go on-\"]\n",
        "label = tk.Label(root, text=\"\", font=(\"Consolas\", 18, \"bold\"), bg=\"#FFD1DC\")\n",
        "label.pack(pady=30)\n",
        "\n",
        "button = tk.Button(root, text=\"CLICK ME\", font=(\"Consolas\", 20), bg=\"#FF69B4\", fg=\"white\", command=show_folders)\n",
        "button.pack_forget()\n",
        "\n",
        "next_message(0)\n",
        "root.mainloop()"
      ]
    }
  ]
}